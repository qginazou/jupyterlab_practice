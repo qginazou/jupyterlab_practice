{
 "cells": [
  {
   "cell_type": "markdown",
   "id": "6253e5cc-7955-444f-a601-5c59cb87e33e",
   "metadata": {},
   "source": [
    "# LINGJUE ZOU\n",
    "Notebook for assignment 7\n"
   ]
  },
  {
   "cell_type": "code",
   "execution_count": 2,
   "id": "cb007653-c761-4874-bae5-511864b1f490",
   "metadata": {},
   "outputs": [
    {
     "name": "stdout",
     "output_type": "stream",
     "text": [
      "5.0\n"
     ]
    }
   ],
   "source": [
    "def compute_mean(values):\n",
    "    mean_value = sum(values) / len(values)\n",
    "    print(mean_value)\n",
    "\n",
    "\n",
    "compute_mean([2, 4, 6, 8])\n"
   ]
  },
  {
   "cell_type": "markdown",
   "id": "64f2c95e-8f39-4549-bbe2-d93287133f4f",
   "metadata": {},
   "source": [
    "## Explanation\n",
    "\n",
    "The mean (average) of a list of values can be calculated using the formula:\n",
    "\n",
    "Add all the numbers and divide by the number of numbers, and the final result is the average\n",
    "\n",
    "\n",
    "\\begin{align*}\n",
    "\\bar{x} & = \\frac{x_1 + x_2 + \\ldots + x_n}{n} = \\frac{1}{n} \\left( \\sum_{i=1}^{n} x_i \\right)\n",
    "\\end{align*}\n"
   ]
  }
 ],
 "metadata": {
  "kernelspec": {
   "display_name": "Python 3 (ipykernel)",
   "language": "python",
   "name": "python3"
  },
  "language_info": {
   "codemirror_mode": {
    "name": "ipython",
    "version": 3
   },
   "file_extension": ".py",
   "mimetype": "text/x-python",
   "name": "python",
   "nbconvert_exporter": "python",
   "pygments_lexer": "ipython3",
   "version": "3.11.5"
  }
 },
 "nbformat": 4,
 "nbformat_minor": 5
}
